{
 "cells": [
  {
   "cell_type": "code",
   "execution_count": 52,
   "metadata": {
    "collapsed": false,
    "slideshow": {
     "slide_type": "skip"
    }
   },
   "outputs": [],
   "source": [
    "import re\n",
    "import pandas as pd\n",
    "import matplotlib.pyplot as plt\n",
    "%matplotlib inline\n",
    "pd.set_option('display.max_columns', None)\n"
   ]
  },
  {
   "cell_type": "code",
   "execution_count": null,
   "metadata": {
    "collapsed": false
   },
   "outputs": [],
   "source": []
  },
  {
   "cell_type": "code",
   "execution_count": 3,
   "metadata": {
    "collapsed": false
   },
   "outputs": [],
   "source": [
    "act = pd.read_csv('data/atusact_2014.dat')\n",
    "cps = pd.read_csv('data/atuscps_2014.dat')\n",
    "resp = pd.read_csv('data/atusresp_2014.dat')\n",
    "rost = pd.read_csv('data/atusrost_2014.dat')\n",
    "rostec = pd.read_csv('data/atusrostec_2014.dat')\n",
    "sum_ = pd.read_csv('data/atussum_2014.dat') \\\n",
    "                  .rename(columns={'tucaseid':'TUCASEID'})\n",
    "who = pd.read_csv('data/atuswho_2014.dat')\n",
    "ind_codes = pd.read_csv('ind_codes.csv', sep=\"|\")\n",
    "acts = pd.read_excel('data/lexiconwex2014.xls', 1, header=1, parse_cols=1) \\\n",
    "                    .rename(columns={'6-digit activity code' : 'code',\n",
    "                                     'Activity' : 'activity'}).dropna()"
   ]
  },
  {
   "cell_type": "markdown",
   "metadata": {
    "collapsed": false
   },
   "source": [
    "## What percent of part-time employees are also students? \n",
    "## What percent of students are also employed?\n",
    " - resp \n",
    "     - TESCHENR - are you enrolled in high school, college, or university? \n",
    "         - (1 - Yes, 2 - No)\n",
    "     - TELFS - Edited: labor force status\n",
    "         - (1 - Employed - at work, 2 - Employed - absent, 3 - Unemployed - on layoff, 4 - Unemployed - looking, 5 - Not in labor force)\n",
    "     - TEHRFTPT - do you usually work more than 35 hours per week at your Respondent File job(s)/family business? \n",
    "         - (1 - Yes, 2 - No, 3 - Hours Vary)\n",
    "     - TESPEMPNOT - Edited: employment status of spouse or unmarried partner\n",
    "         - (1 - Employed, 2 - Unemployed)\n",
    "     - TRDPFTPT - Full time or part time employment status of respondent\n",
    "         - (1 - Full time, 2 - Part time)\n",
    "     - TRSPFTPT - Full time or part time employment status of spouse or unmarried partner\n",
    "         - (1 - Full time, 2 - Part time)\n",
    "     - TESCHFT - Edited: are you enrolled as a full-time or part-time student?\n",
    "         - (1 - Full time, 2 - Part time)"
   ]
  },
  {
   "cell_type": "code",
   "execution_count": 4,
   "metadata": {
    "collapsed": false
   },
   "outputs": [
    {
     "data": {
      "text/plain": [
       "1    0.463783\n",
       "5    0.398390\n",
       "4    0.096579\n",
       "2    0.034205\n",
       "3    0.007042\n",
       "dtype: float64"
      ]
     },
     "execution_count": 4,
     "metadata": {},
     "output_type": "execute_result"
    }
   ],
   "source": [
    "studies_v_work = resp[['TUCASEID', 'TESCHENR', 'TESCHFT', 'TELFS', 'TEHRFTPT', \n",
    "                       'TESPEMPNOT', 'TRDPFTPT', 'TRSPFTPT']] \\\n",
    "      .rename(columns={'TESCHENR' : 'enrolled', 'TELFS' : 'status', \n",
    "                       'TEHRFTPT' : 'hours', 'TESPEMPNOT' : 'spouse_emp', \n",
    "                       'TRDPFTPT' : 'full', 'TRSPFTPT' : 'spouse-full',\n",
    "                       'TESCHFT' : 'full-student'})\n",
    "\n",
    "students = studies_v_work[studies_v_work['enrolled'] == 1]\n",
    "students['status'].value_counts()/len(students)"
   ]
  },
  {
   "cell_type": "markdown",
   "metadata": {
    "collapsed": false
   },
   "source": [
    "#### Employed students\n",
    "\n",
    "From this data, if we sum the percentages for values 1 (Employed - at work) and 2 (Employed - absent), we see that approximately **49.8%** of students are also employed.  From here, let's see what percent of these employed students are working full-time jobs."
   ]
  },
  {
   "cell_type": "code",
   "execution_count": 5,
   "metadata": {
    "collapsed": false
   },
   "outputs": [
    {
     "data": {
      "text/plain": [
       "1    0.533623\n",
       "2    0.466377\n",
       "dtype: float64"
      ]
     },
     "execution_count": 5,
     "metadata": {},
     "output_type": "execute_result"
    }
   ],
   "source": [
    "students['full'][students['status'] < 2].value_counts()/len(students[students['status'] < 2])"
   ]
  },
  {
   "cell_type": "markdown",
   "metadata": {},
   "source": [
    "#### Students employed full-time\n",
    "\n",
    "Here we see that **53.4%** of employed students work full-time jobs, with part-time jobs bringing up the other 46.6%.  Out of curiousity, let's go back and see what percentage of unemployed students have employed spouses."
   ]
  },
  {
   "cell_type": "code",
   "execution_count": 6,
   "metadata": {
    "collapsed": false
   },
   "outputs": [
    {
     "data": {
      "text/plain": [
       "-1    0.853659\n",
       " 1    0.125704\n",
       " 2    0.020638\n",
       "dtype: float64"
      ]
     },
     "execution_count": 6,
     "metadata": {},
     "output_type": "execute_result"
    }
   ],
   "source": [
    "students['spouse_emp'][students['status'] > 1].value_counts()/len(students[students['status'] > 1])"
   ]
  },
  {
   "cell_type": "markdown",
   "metadata": {},
   "source": [
    "#### Employed spouses of students\n",
    "Finally, we see that **12.6%** of our unemployed students have employed spouses"
   ]
  },
  {
   "cell_type": "markdown",
   "metadata": {},
   "source": [
    "## Is there a relationship between weekly wage and care for older/younger relatives?\n",
    " - time spent?\n",
    " - in home or otherwise for older?\n",
    " - time spent working vs. time spent \n",
    " \n",
    " - resp\n",
    "     - TRERNWA - Weekly earnings at main job (2 implied decimals)\n",
    "         - 0 - 288461 (in cents)\n",
    "     - TRTEC - Total time spent providing eldercare (in minutes)\n",
    "         - 0 - 1440 (in minutes)\n",
    "     - TRTEC_LN - Time spent providing eldercare by activity (in minutes)\n",
    "         - 0 - 1440 (in minutes)\n",
    "         - Note: Excludes time spent in activities with codes = 01xxxx or 0805xx\n",
    "     - TEHRUSLT - Edited: total hours usually worked per week (sum of TEHRUSL1 and Respondent File, TEHRUSL2)\n",
    "         - 0 - 999 (in hours)\n",
    "         - -4 (Hours vary)\n",
    "     - TULINENO - ATUS person line number\n",
    "         - 0 - 30\n",
    " - rostec\n",
    "     - TRELHH - Eldercare recipient is a household member\n",
    "         - (0 - Recipient is not a household member, 1 - Recipient is a household member)\n",
    "     - TULINENO - ATUS person line number\n",
    "         - 0 - 30"
   ]
  },
  {
   "cell_type": "code",
   "execution_count": 42,
   "metadata": {
    "collapsed": false
   },
   "outputs": [
    {
     "data": {
      "text/html": [
       "<div>\n",
       "<table border=\"1\" class=\"dataframe\">\n",
       "  <thead>\n",
       "    <tr style=\"text-align: right;\">\n",
       "      <th></th>\n",
       "      <th>case_id</th>\n",
       "      <th>wages</th>\n",
       "      <th>care_time</th>\n",
       "      <th>work_time</th>\n",
       "    </tr>\n",
       "  </thead>\n",
       "  <tbody>\n",
       "    <tr>\n",
       "      <th>case_id</th>\n",
       "      <td>1.000000</td>\n",
       "      <td>-0.035301</td>\n",
       "      <td>0.032763</td>\n",
       "      <td>-0.016667</td>\n",
       "    </tr>\n",
       "    <tr>\n",
       "      <th>wages</th>\n",
       "      <td>-0.035301</td>\n",
       "      <td>1.000000</td>\n",
       "      <td>0.048380</td>\n",
       "      <td>0.349187</td>\n",
       "    </tr>\n",
       "    <tr>\n",
       "      <th>care_time</th>\n",
       "      <td>0.032763</td>\n",
       "      <td>0.048380</td>\n",
       "      <td>1.000000</td>\n",
       "      <td>0.141882</td>\n",
       "    </tr>\n",
       "    <tr>\n",
       "      <th>work_time</th>\n",
       "      <td>-0.016667</td>\n",
       "      <td>0.349187</td>\n",
       "      <td>0.141882</td>\n",
       "      <td>1.000000</td>\n",
       "    </tr>\n",
       "  </tbody>\n",
       "</table>\n",
       "</div>"
      ],
      "text/plain": [
       "            case_id     wages  care_time  work_time\n",
       "case_id    1.000000 -0.035301   0.032763  -0.016667\n",
       "wages     -0.035301  1.000000   0.048380   0.349187\n",
       "care_time  0.032763  0.048380   1.000000   0.141882\n",
       "work_time -0.016667  0.349187   0.141882   1.000000"
      ]
     },
     "execution_count": 42,
     "metadata": {},
     "output_type": "execute_result"
    }
   ],
   "source": [
    "elder_care = resp[['TUCASEID', 'TRERNWA', 'TRTEC', 'TEHRUSLT']] \\\n",
    "                .rename(columns={'TUCASEID': 'case_id', 'TRERNWA' : 'wages',\n",
    "                                 'TRTEC': 'care_time', 'TEHRUSLT' : 'work_time'})\n",
    "\n",
    "elder_care = elder_care[elder_care.care_time > 0]\n",
    "elder_care = elder_care[elder_care.wages > 0]\n",
    "elder_care.corr()\n",
    "#sort('TRERNWA', ascending=False, inplace=False)"
   ]
  },
  {
   "cell_type": "code",
   "execution_count": 56,
   "metadata": {
    "collapsed": false
   },
   "outputs": [
    {
     "data": {
      "image/png": "[encoded data removed]",
      "text/plain": [
       "<matplotlib.figure.Figure at 0x109a7a4a8>"
      ]
     },
     "metadata": {},
     "output_type": "display_data"
    }
   ],
   "source": [
    "elder_care.plot('wages', 'care_time', kind='scatter', title=\"Wages vs. Care Time\")\n",
    "plt.xlabel('Weekly Wages (in USD)')\n",
    "plt.ylabel('Care Time for a Day in Minutes')\n",
    "plt.show()"
   ]
  },
  {
   "cell_type": "code",
   "execution_count": 57,
   "metadata": {
    "collapsed": false
   },
   "outputs": [
    {
     "data": {
      "image/png": "[encoded data removed]",
      "text/plain": [
       "<matplotlib.figure.Figure at 0x109b86908>"
      ]
     },
     "metadata": {},
     "output_type": "display_data"
    }
   ],
   "source": [
    "elder_care.plot('work_time', 'care_time', kind='scatter', title=\"Hours worked vs. Care Time\")\n",
    "plt.xlabel('Time worked in a Week in Hours')\n",
    "plt.ylabel('Care Time for a Day in Minutes')\n",
    "plt.show()"
   ]
  },
  {
   "cell_type": "markdown",
   "metadata": {},
   "source": [
    "#### Wages and work hours compared to time spent caring for the elderly\n",
    "Based on the data we have here, there is **no strong connection** between time spent caring for the elderly and wages earned or hours worked.  From our Pearson correlations, we get almost as strong a correlation of care time to case ID as we do care time to wages.  The strongest correlation (aside from work time to wages) is a slight one between care time and work time at a positive .1419."
   ]
  },
  {
   "cell_type": "markdown",
   "metadata": {},
   "source": [
    "## Industry worked vs. anything?"
   ]
  },
  {
   "cell_type": "code",
   "execution_count": null,
   "metadata": {
    "collapsed": true
   },
   "outputs": [],
   "source": []
  },
  {
   "cell_type": "markdown",
   "metadata": {},
   "source": [
    "## Various activities across prescence of spouse, partner, neither\n",
    "- resp\n",
    "    - TRSPPRES - Presence of the respondent's spouse or unmarried partner in the Respondent File, household\n",
    "        - (1 - Spouse present, 2 - Unmarried partner present, 3 - No spouse or unmarried partner present)\n",
    "    - "
   ]
  },
  {
   "cell_type": "code",
   "execution_count": 8,
   "metadata": {
    "collapsed": true
   },
   "outputs": [],
   "source": [
    "merged = pd.merge(pd.merge(pd.merge(act, cps), pd.merge(resp, rost))\n",
    "         , pd.merge(pd.merge(rostec, sum_), who))"
   ]
  },
  {
   "cell_type": "code",
   "execution_count": null,
   "metadata": {
    "collapsed": true
   },
   "outputs": [],
   "source": []
  },
  {
   "cell_type": "markdown",
   "metadata": {},
   "source": [
    "## Time spent with work acquaintances outside of work for various industries\n",
    "- resp\n",
    "    - TRTCCC - Total nonwork-related time respondent spent with customers, clients, and Respondent File coworkers (in minutes)\n",
    "         - \n",
    "    - TEHRUSLT - Edited: total hours usually worked per week (sum of TEHRUSL1 and Respondent File, TEHRUSL2)\n",
    "         - 0 - 999 (in minutes)\n"
   ]
  }
 ],
 "metadata": {
  "kernelspec": {
   "display_name": "Python 3",
   "language": "python",
   "name": "python3"
  },
  "language_info": {
   "codemirror_mode": {
    "name": "ipython",
    "version": 3
   },
   "file_extension": ".py",
   "mimetype": "text/x-python",
   "name": "python",
   "nbconvert_exporter": "python",
   "pygments_lexer": "ipython3",
   "version": "3.4.3"
  }
 },
 "nbformat": 4,
 "nbformat_minor": 0
}
