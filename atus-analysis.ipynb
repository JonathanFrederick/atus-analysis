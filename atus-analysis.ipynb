{
 "cells": [
  {
   "cell_type": "code",
   "execution_count": 2,
   "metadata": {
    "collapsed": false
   },
   "outputs": [],
   "source": [
    "import re\n",
    "import pandas as pd\n",
    "%matplotlib inline\n",
    "pd.set_option('display.max_columns', None)\n"
   ]
  },
  {
   "cell_type": "code",
   "execution_count": 46,
   "metadata": {
    "collapsed": false
   },
   "outputs": [
    {
     "name": "stdout",
     "output_type": "stream",
     "text": [
      "ATUS-CPS2014_info.txt atuscps_2014.sps      atusrostec_2014.sas\r\n",
      "Activity2014_info.txt atuscps_2014.zip      atusrostec_2014.sps\r\n",
      "Resp2014_info.txt     atusintcodebk14.pdf   atusrostec_2014.zip\r\n",
      "Rost2014_info.txt     atusresp_2014.dat     atussum_2014.dat\r\n",
      "Rostec2014_info.txt   atusresp_2014.do      atussum_2014.do\r\n",
      "Sum2014_info.txt      atusresp_2014.sas     atussum_2014.sas\r\n",
      "Who2014_info.txt      atusresp_2014.sps     atussum_2014.sps\r\n",
      "atusact_2014.dat      atusresp_2014.zip     atussum_2014.zip\r\n",
      "atusact_2014.do       atusrost_2014.dat     atususersguide.pdf\r\n",
      "atusact_2014.sas      atusrost_2014.do      atuswho_2014.dat\r\n",
      "atusact_2014.sps      atusrost_2014.sas     atuswho_2014.do\r\n",
      "atusact_2014.zip      atusrost_2014.sps     atuswho_2014.sas\r\n",
      "atuscps_2014.dat      atusrost_2014.zip     atuswho_2014.sps\r\n",
      "atuscps_2014.do       atusrostec_2014.dat   atuswho_2014.zip\r\n",
      "atuscps_2014.sas      atusrostec_2014.do    lexiconnoex2014.pdf\r\n"
     ]
    }
   ],
   "source": [
    "!ls data"
   ]
  },
  {
   "cell_type": "code",
   "execution_count": 3,
   "metadata": {
    "collapsed": false
   },
   "outputs": [],
   "source": [
    "act = pd.read_csv('data/atusact_2014.dat')\n",
    "cps = pd.read_csv('data/atuscps_2014.dat')\n",
    "resp = pd.read_csv('data/atusresp_2014.dat')\n",
    "rost = pd.read_csv('data/atusrost_2014.dat')\n",
    "rostec = pd.read_csv('data/atusrostec_2014.dat')\n",
    "sum_ = pd.read_csv('data/atussum_2014.dat') \\\n",
    "                  .rename(columns={'tucaseid':'TUCASEID'})\n",
    "who = pd.read_csv('data/atuswho_2014.dat')"
   ]
  },
  {
   "cell_type": "code",
   "execution_count": 4,
   "metadata": {
    "collapsed": false
   },
   "outputs": [],
   "source": [
    "acts = pd.read_excel('data/lexiconwex2014.xls', 1, header=1, parse_cols=1) \\\n",
    "                    .rename(columns={'6-digit activity code' : 'code',\n",
    "                                     'Activity' : 'activity'}).dropna()\n"
   ]
  },
  {
   "cell_type": "code",
   "execution_count": null,
   "metadata": {
    "collapsed": false
   },
   "outputs": [],
   "source": [
    "{'TUCASEID' : 'case_id', 'TUACTIVITY_N' : 'activity_line_num', \n",
    " 'TEWHERE' : 'location', 'TRTCCTOT_LN' : 'sec_child_care_len', \n",
    " 'TRTCC_LN',\n",
    "'TRTCOC_LN', 'TRTEC_LN', 'TRTHH_LN', 'TRTNOHH_LN', 'TRTOHH_LN',\n",
    "'TRTONHH_LN', 'TRTO_LN', 'TUACTDUR', 'TUACTDUR24', 'TUCC5', 'TUCC5B',\n",
    "'TUCC7', 'TUCC8', 'TUCUMDUR', 'TUCUMDUR24', 'TUEC24', 'TUSTARTTIM',\n",
    "'TUSTOPTIME', 'TUTIER1CODE', 'TUTIER2CODE', 'TUTIER3CODE', 'TRCODE',\n",
    "'TRTIER2', 'TXWHERE'}"
   ]
  },
  {
   "cell_type": "code",
   "execution_count": null,
   "metadata": {
    "collapsed": false
   },
   "outputs": [],
   "source": []
  },
  {
   "cell_type": "code",
   "execution_count": 6,
   "metadata": {
    "collapsed": false
   },
   "outputs": [
    {
     "data": {
      "text/html": [
       "<div>\n",
       "<table border=\"1\" class=\"dataframe\">\n",
       "  <thead>\n",
       "    <tr style=\"text-align: right;\">\n",
       "      <th></th>\n",
       "      <th>TUCASEID</th>\n",
       "      <th>TUACTIVITY_N</th>\n",
       "      <th>TEWHERE</th>\n",
       "      <th>TRTCCTOT_LN</th>\n",
       "      <th>TRTCC_LN</th>\n",
       "      <th>TRTCOC_LN</th>\n",
       "      <th>TRTEC_LN</th>\n",
       "      <th>TRTHH_LN</th>\n",
       "      <th>TRTNOHH_LN</th>\n",
       "      <th>TRTOHH_LN</th>\n",
       "      <th>TRTONHH_LN</th>\n",
       "      <th>TRTO_LN</th>\n",
       "      <th>TUACTDUR</th>\n",
       "      <th>TUACTDUR24</th>\n",
       "      <th>TUCC5</th>\n",
       "      <th>TUCC5B</th>\n",
       "      <th>TUCC7</th>\n",
       "      <th>TUCC8</th>\n",
       "      <th>TUCUMDUR</th>\n",
       "      <th>TUCUMDUR24</th>\n",
       "      <th>TUEC24</th>\n",
       "      <th>TUSTARTTIM</th>\n",
       "      <th>TUSTOPTIME</th>\n",
       "      <th>TUTIER1CODE</th>\n",
       "      <th>TUTIER2CODE</th>\n",
       "      <th>TUTIER3CODE</th>\n",
       "      <th>TRCODE</th>\n",
       "      <th>TRTIER2</th>\n",
       "      <th>TXWHERE</th>\n",
       "    </tr>\n",
       "  </thead>\n",
       "  <tbody>\n",
       "    <tr>\n",
       "      <th>0</th>\n",
       "      <td>20140101140007</td>\n",
       "      <td>1</td>\n",
       "      <td>-1</td>\n",
       "      <td>0</td>\n",
       "      <td>0</td>\n",
       "      <td>0</td>\n",
       "      <td>-1</td>\n",
       "      <td>0</td>\n",
       "      <td>-1</td>\n",
       "      <td>0</td>\n",
       "      <td>-1</td>\n",
       "      <td>0</td>\n",
       "      <td>540</td>\n",
       "      <td>540</td>\n",
       "      <td>1</td>\n",
       "      <td>0</td>\n",
       "      <td>0</td>\n",
       "      <td>97</td>\n",
       "      <td>540</td>\n",
       "      <td>540</td>\n",
       "      <td>-1</td>\n",
       "      <td>04:00:00</td>\n",
       "      <td>13:00:00</td>\n",
       "      <td>1</td>\n",
       "      <td>1</td>\n",
       "      <td>1</td>\n",
       "      <td>10101</td>\n",
       "      <td>101</td>\n",
       "      <td>0</td>\n",
       "    </tr>\n",
       "    <tr>\n",
       "      <th>1</th>\n",
       "      <td>20140101140007</td>\n",
       "      <td>2</td>\n",
       "      <td>1</td>\n",
       "      <td>0</td>\n",
       "      <td>0</td>\n",
       "      <td>0</td>\n",
       "      <td>-1</td>\n",
       "      <td>0</td>\n",
       "      <td>-1</td>\n",
       "      <td>0</td>\n",
       "      <td>-1</td>\n",
       "      <td>0</td>\n",
       "      <td>30</td>\n",
       "      <td>30</td>\n",
       "      <td>1</td>\n",
       "      <td>0</td>\n",
       "      <td>0</td>\n",
       "      <td>0</td>\n",
       "      <td>570</td>\n",
       "      <td>570</td>\n",
       "      <td>-1</td>\n",
       "      <td>13:00:00</td>\n",
       "      <td>13:30:00</td>\n",
       "      <td>3</td>\n",
       "      <td>1</td>\n",
       "      <td>1</td>\n",
       "      <td>30101</td>\n",
       "      <td>301</td>\n",
       "      <td>0</td>\n",
       "    </tr>\n",
       "    <tr>\n",
       "      <th>2</th>\n",
       "      <td>20140101140007</td>\n",
       "      <td>3</td>\n",
       "      <td>-1</td>\n",
       "      <td>60</td>\n",
       "      <td>60</td>\n",
       "      <td>0</td>\n",
       "      <td>-1</td>\n",
       "      <td>60</td>\n",
       "      <td>-1</td>\n",
       "      <td>60</td>\n",
       "      <td>-1</td>\n",
       "      <td>60</td>\n",
       "      <td>60</td>\n",
       "      <td>60</td>\n",
       "      <td>1</td>\n",
       "      <td>0</td>\n",
       "      <td>0</td>\n",
       "      <td>0</td>\n",
       "      <td>630</td>\n",
       "      <td>630</td>\n",
       "      <td>-1</td>\n",
       "      <td>13:30:00</td>\n",
       "      <td>14:30:00</td>\n",
       "      <td>1</td>\n",
       "      <td>2</td>\n",
       "      <td>1</td>\n",
       "      <td>10201</td>\n",
       "      <td>102</td>\n",
       "      <td>0</td>\n",
       "    </tr>\n",
       "    <tr>\n",
       "      <th>3</th>\n",
       "      <td>20140101140007</td>\n",
       "      <td>4</td>\n",
       "      <td>13</td>\n",
       "      <td>10</td>\n",
       "      <td>10</td>\n",
       "      <td>0</td>\n",
       "      <td>-1</td>\n",
       "      <td>10</td>\n",
       "      <td>-1</td>\n",
       "      <td>10</td>\n",
       "      <td>-1</td>\n",
       "      <td>10</td>\n",
       "      <td>10</td>\n",
       "      <td>10</td>\n",
       "      <td>1</td>\n",
       "      <td>0</td>\n",
       "      <td>0</td>\n",
       "      <td>0</td>\n",
       "      <td>640</td>\n",
       "      <td>640</td>\n",
       "      <td>-1</td>\n",
       "      <td>14:30:00</td>\n",
       "      <td>14:40:00</td>\n",
       "      <td>18</td>\n",
       "      <td>11</td>\n",
       "      <td>1</td>\n",
       "      <td>181101</td>\n",
       "      <td>1811</td>\n",
       "      <td>0</td>\n",
       "    </tr>\n",
       "    <tr>\n",
       "      <th>4</th>\n",
       "      <td>20140101140007</td>\n",
       "      <td>5</td>\n",
       "      <td>4</td>\n",
       "      <td>30</td>\n",
       "      <td>30</td>\n",
       "      <td>0</td>\n",
       "      <td>-1</td>\n",
       "      <td>30</td>\n",
       "      <td>-1</td>\n",
       "      <td>30</td>\n",
       "      <td>-1</td>\n",
       "      <td>30</td>\n",
       "      <td>30</td>\n",
       "      <td>30</td>\n",
       "      <td>1</td>\n",
       "      <td>0</td>\n",
       "      <td>0</td>\n",
       "      <td>0</td>\n",
       "      <td>670</td>\n",
       "      <td>670</td>\n",
       "      <td>-1</td>\n",
       "      <td>14:40:00</td>\n",
       "      <td>15:10:00</td>\n",
       "      <td>11</td>\n",
       "      <td>1</td>\n",
       "      <td>1</td>\n",
       "      <td>110101</td>\n",
       "      <td>1101</td>\n",
       "      <td>0</td>\n",
       "    </tr>\n",
       "  </tbody>\n",
       "</table>\n",
       "</div>"
      ],
      "text/plain": [
       "         TUCASEID  TUACTIVITY_N  TEWHERE  TRTCCTOT_LN  TRTCC_LN  TRTCOC_LN  \\\n",
       "0  20140101140007             1       -1            0         0          0   \n",
       "1  20140101140007             2        1            0         0          0   \n",
       "2  20140101140007             3       -1           60        60          0   \n",
       "3  20140101140007             4       13           10        10          0   \n",
       "4  20140101140007             5        4           30        30          0   \n",
       "\n",
       "   TRTEC_LN  TRTHH_LN  TRTNOHH_LN  TRTOHH_LN  TRTONHH_LN  TRTO_LN  TUACTDUR  \\\n",
       "0        -1         0          -1          0          -1        0       540   \n",
       "1        -1         0          -1          0          -1        0        30   \n",
       "2        -1        60          -1         60          -1       60        60   \n",
       "3        -1        10          -1         10          -1       10        10   \n",
       "4        -1        30          -1         30          -1       30        30   \n",
       "\n",
       "   TUACTDUR24  TUCC5  TUCC5B  TUCC7  TUCC8  TUCUMDUR  TUCUMDUR24  TUEC24  \\\n",
       "0         540      1       0      0     97       540         540      -1   \n",
       "1          30      1       0      0      0       570         570      -1   \n",
       "2          60      1       0      0      0       630         630      -1   \n",
       "3          10      1       0      0      0       640         640      -1   \n",
       "4          30      1       0      0      0       670         670      -1   \n",
       "\n",
       "  TUSTARTTIM TUSTOPTIME  TUTIER1CODE  TUTIER2CODE  TUTIER3CODE  TRCODE  \\\n",
       "0   04:00:00   13:00:00            1            1            1   10101   \n",
       "1   13:00:00   13:30:00            3            1            1   30101   \n",
       "2   13:30:00   14:30:00            1            2            1   10201   \n",
       "3   14:30:00   14:40:00           18           11            1  181101   \n",
       "4   14:40:00   15:10:00           11            1            1  110101   \n",
       "\n",
       "   TRTIER2  TXWHERE  \n",
       "0      101        0  \n",
       "1      301        0  \n",
       "2      102        0  \n",
       "3     1811        0  \n",
       "4     1101        0  "
      ]
     },
     "execution_count": 6,
     "metadata": {},
     "output_type": "execute_result"
    }
   ],
   "source": [
    "act.head()"
   ]
  },
  {
   "cell_type": "markdown",
   "metadata": {},
   "source": [
    "## What percent of part-time employees are also students?  Vice Versa?\n",
    " - resp \n",
    "     - TESCHENR - are you enrolled in high school, college, or university? \n",
    "         - (1 - Yes, 2 - No)\n",
    "     - TELFS - Edited: labor force status\n",
    "         - (1 - Employed - at work, 2 - Employed - absent, 3 - Unemployed - on layoff, 4 - Unemployed - looking, 5 - Not in labor force)\n",
    "     - TEHRFTPT - do you usually work more than 35 hours per week at your Respondent File job(s)/family business? \n",
    "         - (1 - Yes, 2 - No, 3 - Hours Vary)\n",
    "     - TESPEMPNOT - Edited: employment status of spouse or unmarried partner\n",
    "         - (1 - Employed, 2 - Unemployed)\n",
    "     - TRDPFTPT - Full time or part time employment status of respondent\n",
    "         - (1 - Full time, 2 - Part time)\n",
    "     - TRSPFTPT - Full time or part time employment status of spouse or unmarried partner\n",
    "         - (1 - Full time, 2 - Part time)\n"
   ]
  },
  {
   "cell_type": "code",
   "execution_count": null,
   "metadata": {
    "collapsed": false
   },
   "outputs": [],
   "source": []
  },
  {
   "cell_type": "markdown",
   "metadata": {},
   "source": [
    "## Is there a relationship between weekly wage and care for older/younger relatives?\n",
    " - time spent?\n",
    " - in home or otherwise for older?\n",
    " - time spent working vs. time spent \n",
    " \n",
    " - resp\n",
    "     - TRERNWA - Weekly earnings at main job (2 implied decimals)\n",
    "         - 0 - 288461 (in cents)\n",
    "     - TRTEC - Total time spent providing eldercare (in minutes)\n",
    "         - 0 - 1440 (in minutes)\n",
    "     - TRTEC_LN - Time spent providing eldercare by activity (in minutes)\n",
    "         - 0 - 1440 (in minutes)\n",
    "         - Note: Excludes time spent in activities with codes = 01xxxx or 0805xx\n",
    "     - TEHRUSLT - Edited: total hours usually worked per week (sum of TEHRUSL1 and Respondent File, TEHRUSL2)\n",
    "         - 0 - 999 (in hours)\n",
    "         - -4 (Hours vary)\n",
    " - rostec\n",
    "     - TRELHH - Eldercare recipient is a household member\n",
    "         - (0 - Recipient is not a household member, 1 - Recipient is a household member)"
   ]
  },
  {
   "cell_type": "code",
   "execution_count": null,
   "metadata": {
    "collapsed": false
   },
   "outputs": [],
   "source": []
  },
  {
   "cell_type": "markdown",
   "metadata": {},
   "source": [
    "## Industry worked vs. anything?"
   ]
  },
  {
   "cell_type": "markdown",
   "metadata": {},
   "source": [
    "## Various activities across prescence of spouse, partner, neither\n",
    "- resp\n",
    "    - TRSPPRES - Presence of the respondent's spouse or unmarried partner in the Respondent File, household\n",
    "        - (1 - Spouse present, 2 - Unmarried partner present, 3 - No spouse or unmarried partner present)\n",
    "    - "
   ]
  },
  {
   "cell_type": "code",
   "execution_count": 77,
   "metadata": {
    "collapsed": true
   },
   "outputs": [],
   "source": [
    "merged = pd.merge(pd.merge(pd.merge(act, cps), pd.merge(resp, rost))\n",
    "         , pd.merge(pd.merge(rostec, sum_), who))"
   ]
  },
  {
   "cell_type": "code",
   "execution_count": null,
   "metadata": {
    "collapsed": true
   },
   "outputs": [],
   "source": []
  },
  {
   "cell_type": "markdown",
   "metadata": {},
   "source": [
    "## Time spent with work acquaintances outside of work for various industries\n",
    "- resp\n",
    "    - TRTCCC - Total nonwork-related time respondent spent with customers, clients, and Respondent File coworkers (in minutes)\n",
    "         - \n",
    "    - TEHRUSLT - Edited: total hours usually worked per week (sum of TEHRUSL1 and Respondent File, TEHRUSL2)\n",
    "         - 0 - 999 (in minutes)\n"
   ]
  }
 ],
 "metadata": {
  "kernelspec": {
   "display_name": "Python 3",
   "language": "python",
   "name": "python3"
  },
  "language_info": {
   "codemirror_mode": {
    "name": "ipython",
    "version": 3
   },
   "file_extension": ".py",
   "mimetype": "text/x-python",
   "name": "python",
   "nbconvert_exporter": "python",
   "pygments_lexer": "ipython3",
   "version": "3.4.3"
  }
 },
 "nbformat": 4,
 "nbformat_minor": 0
}
