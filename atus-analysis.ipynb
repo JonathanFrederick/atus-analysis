{
 "cells": [
  {
   "cell_type": "code",
   "execution_count": 2,
   "metadata": {
    "collapsed": false
   },
   "outputs": [],
   "source": [
    "import re\n",
    "import pandas as pd\n",
    "%matplotlib inline\n",
    "pd.set_option('display.max_columns', None)\n"
   ]
  },
  {
   "cell_type": "code",
   "execution_count": null,
   "metadata": {
    "collapsed": false
   },
   "outputs": [],
   "source": []
  },
  {
   "cell_type": "code",
   "execution_count": 3,
   "metadata": {
    "collapsed": false
   },
   "outputs": [],
   "source": [
    "act = pd.read_csv('data/atusact_2014.dat')\n",
    "cps = pd.read_csv('data/atuscps_2014.dat')\n",
    "resp = pd.read_csv('data/atusresp_2014.dat')\n",
    "rost = pd.read_csv('data/atusrost_2014.dat')\n",
    "rostec = pd.read_csv('data/atusrostec_2014.dat')\n",
    "sum_ = pd.read_csv('data/atussum_2014.dat') \\\n",
    "                  .rename(columns={'tucaseid':'TUCASEID'})\n",
    "who = pd.read_csv('data/atuswho_2014.dat')\n",
    "ind_codes = pd.read_csv('ind_codes.csv', sep=\"|\")\n",
    "acts = pd.read_excel('data/lexiconwex2014.xls', 1, header=1, parse_cols=1) \\\n",
    "                    .rename(columns={'6-digit activity code' : 'code',\n",
    "                                     'Activity' : 'activity'}).dropna()"
   ]
  },
  {
   "cell_type": "markdown",
   "metadata": {
    "collapsed": false
   },
   "source": [
    "## What percent of part-time employees are also students? \n",
    "## What percent of students are also employed?\n",
    " - resp \n",
    "     - TESCHENR - are you enrolled in high school, college, or university? \n",
    "         - (1 - Yes, 2 - No)\n",
    "     - TELFS - Edited: labor force status\n",
    "         - (1 - Employed - at work, 2 - Employed - absent, 3 - Unemployed - on layoff, 4 - Unemployed - looking, 5 - Not in labor force)\n",
    "     - TEHRFTPT - do you usually work more than 35 hours per week at your Respondent File job(s)/family business? \n",
    "         - (1 - Yes, 2 - No, 3 - Hours Vary)\n",
    "     - TESPEMPNOT - Edited: employment status of spouse or unmarried partner\n",
    "         - (1 - Employed, 2 - Unemployed)\n",
    "     - TRDPFTPT - Full time or part time employment status of respondent\n",
    "         - (1 - Full time, 2 - Part time)\n",
    "     - TRSPFTPT - Full time or part time employment status of spouse or unmarried partner\n",
    "         - (1 - Full time, 2 - Part time)\n"
   ]
  },
  {
   "cell_type": "code",
   "execution_count": 4,
   "metadata": {
    "collapsed": false
   },
   "outputs": [
    {
     "data": {
      "text/plain": [
       "1    0.463783\n",
       "5    0.398390\n",
       "4    0.096579\n",
       "2    0.034205\n",
       "3    0.007042\n",
       "dtype: float64"
      ]
     },
     "execution_count": 4,
     "metadata": {},
     "output_type": "execute_result"
    }
   ],
   "source": [
    "studies_v_work = resp[['TUCASEID', 'TESCHENR', 'TELFS', 'TEHRFTPT', \n",
    "                       'TESPEMPNOT', 'TRDPFTPT', 'TRSPFTPT']] \\\n",
    "      .rename(columns={'TESCHENR' : 'enrolled', 'TELFS' : 'status', \n",
    "                       'TEHRFTPT' : 'hours', 'TESPEMPNOT' : 'spouse_emp', \n",
    "                       'TRDPFTPT' : 'full', 'TRSPFTPT' : 'spouse-full'})\n",
    "\n",
    "students = studies_v_work[studies_v_work['enrolled'] == 1]\n",
    "students['status'].value_counts()/len(students)"
   ]
  },
  {
   "cell_type": "markdown",
   "metadata": {
    "collapsed": false
   },
   "source": [
    "#### Employed students\n",
    "\n",
    "From this data, if we sum the percentages for values 1 (Employed - at work) and 2 (Employed - absent), we see that approximately **49.8%** of students are also employed.  From here, let's see what percent of these employed students are working full-time jobs."
   ]
  },
  {
   "cell_type": "code",
   "execution_count": 5,
   "metadata": {
    "collapsed": false
   },
   "outputs": [
    {
     "data": {
      "text/plain": [
       "1    0.533623\n",
       "2    0.466377\n",
       "dtype: float64"
      ]
     },
     "execution_count": 5,
     "metadata": {},
     "output_type": "execute_result"
    }
   ],
   "source": [
    "students['full'][students['status'] < 2].value_counts()/len(students[students['status'] < 2])"
   ]
  },
  {
   "cell_type": "markdown",
   "metadata": {},
   "source": [
    "#### Students employed full-time\n",
    "\n",
    "Here we see that **53.4%** of employed students work full-time jobs, with part-time jobs bringing up the other 46.6%."
   ]
  },
  {
   "cell_type": "code",
   "execution_count": null,
   "metadata": {
    "collapsed": false
   },
   "outputs": [],
   "source": []
  },
  {
   "cell_type": "markdown",
   "metadata": {},
   "source": [
    "## Is there a relationship between weekly wage and care for older/younger relatives?\n",
    " - time spent?\n",
    " - in home or otherwise for older?\n",
    " - time spent working vs. time spent \n",
    " \n",
    " - resp\n",
    "     - TRERNWA - Weekly earnings at main job (2 implied decimals)\n",
    "         - 0 - 288461 (in cents)\n",
    "     - TRTEC - Total time spent providing eldercare (in minutes)\n",
    "         - 0 - 1440 (in minutes)\n",
    "     - TRTEC_LN - Time spent providing eldercare by activity (in minutes)\n",
    "         - 0 - 1440 (in minutes)\n",
    "         - Note: Excludes time spent in activities with codes = 01xxxx or 0805xx\n",
    "     - TEHRUSLT - Edited: total hours usually worked per week (sum of TEHRUSL1 and Respondent File, TEHRUSL2)\n",
    "         - 0 - 999 (in hours)\n",
    "         - -4 (Hours vary)\n",
    "     - TULINENO - ATUS person line number\n",
    "         - 0 - 30\n",
    " - rostec\n",
    "     - TRELHH - Eldercare recipient is a household member\n",
    "         - (0 - Recipient is not a household member, 1 - Recipient is a household member)\n",
    "     - TULINENO - ATUS person line number\n",
    "         - 0 - 30"
   ]
  },
  {
   "cell_type": "code",
   "execution_count": null,
   "metadata": {
    "collapsed": false
   },
   "outputs": [],
   "source": []
  },
  {
   "cell_type": "markdown",
   "metadata": {},
   "source": [
    "## Industry worked vs. anything?"
   ]
  },
  {
   "cell_type": "markdown",
   "metadata": {},
   "source": [
    "## Various activities across prescence of spouse, partner, neither\n",
    "- resp\n",
    "    - TRSPPRES - Presence of the respondent's spouse or unmarried partner in the Respondent File, household\n",
    "        - (1 - Spouse present, 2 - Unmarried partner present, 3 - No spouse or unmarried partner present)\n",
    "    - "
   ]
  },
  {
   "cell_type": "code",
   "execution_count": 6,
   "metadata": {
    "collapsed": true
   },
   "outputs": [],
   "source": [
    "merged = pd.merge(pd.merge(pd.merge(act, cps), pd.merge(resp, rost))\n",
    "         , pd.merge(pd.merge(rostec, sum_), who))"
   ]
  },
  {
   "cell_type": "code",
   "execution_count": null,
   "metadata": {
    "collapsed": true
   },
   "outputs": [],
   "source": []
  },
  {
   "cell_type": "markdown",
   "metadata": {},
   "source": [
    "## Time spent with work acquaintances outside of work for various industries\n",
    "- resp\n",
    "    - TRTCCC - Total nonwork-related time respondent spent with customers, clients, and Respondent File coworkers (in minutes)\n",
    "         - \n",
    "    - TEHRUSLT - Edited: total hours usually worked per week (sum of TEHRUSL1 and Respondent File, TEHRUSL2)\n",
    "         - 0 - 999 (in minutes)\n"
   ]
  }
 ],
 "metadata": {
  "kernelspec": {
   "display_name": "Python 3",
   "language": "python",
   "name": "python3"
  },
  "language_info": {
   "codemirror_mode": {
    "name": "ipython",
    "version": 3
   },
   "file_extension": ".py",
   "mimetype": "text/x-python",
   "name": "python",
   "nbconvert_exporter": "python",
   "pygments_lexer": "ipython3",
   "version": "3.4.3"
  }
 },
 "nbformat": 4,
 "nbformat_minor": 0
}
